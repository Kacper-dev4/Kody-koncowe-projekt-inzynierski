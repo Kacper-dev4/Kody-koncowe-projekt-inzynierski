{
 "cells": [
  {
   "cell_type": "code",
   "execution_count": 1,
   "id": "2d5d8b70",
   "metadata": {},
   "outputs": [],
   "source": [
    "# Używane biblioteki\n",
    "import carla\n",
    "import random\n",
    "import cv2\n",
    "import math\n",
    "import numpy as np\n",
    "import csv\n",
    "import time"
   ]
  },
  {
   "cell_type": "code",
   "execution_count": 2,
   "id": "49a4ff2c",
   "metadata": {},
   "outputs": [],
   "source": [
    "#połączenie z symulacją \n",
    "client = carla.Client('localhost',2000)\n",
    "world = client.get_world()"
   ]
  },
  {
   "cell_type": "code",
   "execution_count": null,
   "id": "79e040c9",
   "metadata": {
    "scrolled": false
   },
   "outputs": [],
   "source": [
    "# Wybór mapy\n",
    "client.set_timeout(60)\n",
    "client.load_world('Town05')"
   ]
  },
  {
   "cell_type": "code",
   "execution_count": 3,
   "id": "5f321196",
   "metadata": {},
   "outputs": [],
   "source": [
    "#Wczytanie biblioteki z bluprintami pojazdów\n",
    "bib = world.get_blueprint_library()"
   ]
  },
  {
   "cell_type": "code",
   "execution_count": 4,
   "id": "747b17d8",
   "metadata": {},
   "outputs": [],
   "source": [
    "#Znalezienie punktów w których można tworzyć pojazdy\n",
    "spawn_points = world.get_map().get_spawn_points()"
   ]
  },
  {
   "cell_type": "code",
   "execution_count": null,
   "id": "9a7c78e8",
   "metadata": {
    "scrolled": true
   },
   "outputs": [],
   "source": [
    "#Stworzenie pojazdu \n",
    "pojazd_bib = bib.find('vehicle.lincoln.mkz_2020')\n",
    "miejsce = spawn_points[8]\n",
    "miejsce.rotation.yaw = -90\n",
    "\n",
    "pojazd = world.try_spawn_actor(pojazd_bib, miejsce)\n",
    "print(miejsce)"
   ]
  },
  {
   "cell_type": "code",
   "execution_count": 6,
   "id": "80d90f83",
   "metadata": {},
   "outputs": [],
   "source": [
    "# Uzyskanie danych fizycznych pojazdu\n",
    "fizyka = pojazd.get_physics_control()\n",
    "#Otrzymanie danych o kołach pojazdu\n",
    "kola = fizyka.wheels\n",
    "# Wyznacznie odlegości kół od środka masy pojazdu\n",
    "lf = abs(miejsce.location.y - 0.01*kola[1].position.y) \n",
    "lr = abs(miejsce.location.y - 0.01*kola[3].position.y) \n"
   ]
  },
  {
   "cell_type": "code",
   "execution_count": 7,
   "id": "2ac4ac42",
   "metadata": {},
   "outputs": [],
   "source": [
    "#Pojazdy\n",
    "#'vehicle.lincoln.mkz_2020'\n",
    "#'vehicle.mercedes.coupe_2020'\n",
    "#'vehicle.mercedes.sprinter'\n",
    "#'vehicle.ford.ambulance'\n",
    "#'vehicle.volkswagen.t2_2021'\n",
    "#'vehicle.mitsubishi.fusorosa'\n",
    "#'vehicle.tesla.cybertruck'\n",
    "#'vehicle.dodge.charger_2020'\n",
    "#'vehicle.nissan.patrol_2021'\n",
    "#'vehicle.ford.mustang'\n",
    "#'vehicle.mini.cooper_s_2021'\n",
    "#'vehicle.nissan.micra'\n",
    "#'vehicle.tesla.model3'\n"
   ]
  },
  {
   "cell_type": "code",
   "execution_count": 8,
   "id": "0f6260e5",
   "metadata": {},
   "outputs": [],
   "source": [
    "#Przeniesienie do lokazji utworzonego pojazdu\n",
    "spectator = world.get_spectator()\n",
    "transform = carla.Transform(pojazd.get_transform().transform(carla.Location(x=-4,z=2.5)),pojazd.get_transform().rotation) \n",
    "spectator.set_transform(transform) "
   ]
  },
  {
   "cell_type": "code",
   "execution_count": 9,
   "id": "27e9b141",
   "metadata": {},
   "outputs": [],
   "source": [
    "# Dodanie kamery\n",
    "pozycja_z = 4 \n",
    "pozycja_x = -10 \n",
    "\n",
    "camera_bp = world.get_blueprint_library().find('sensor.camera.rgb')\n",
    "camera_bp.set_attribute('image_size_x', '640') \n",
    "camera_bp.set_attribute('image_size_y', '360')\n",
    "\n",
    "camera_init_trans = carla.Transform(carla.Location(z=pozycja_z,x=pozycja_x))\n",
    "camera = world.spawn_actor(camera_bp,camera_init_trans,attach_to=pojazd)\n",
    "\n",
    "def camera_callback(image,data_dict):\n",
    "    data_dict['image'] = np.reshape(np.copy(image.raw_data),(image.height,image.width,4))\n",
    "\n",
    "image_w = camera_bp.get_attribute('image_size_x').as_int()\n",
    "image_h = camera_bp.get_attribute('image_size_y').as_int()\n",
    "\n",
    "camera_data = {'image': np.zeros((image_h,image_w,4))}\n",
    "\n",
    "camera.listen(lambda image: camera_callback(image,camera_data))"
   ]
  },
  {
   "cell_type": "code",
   "execution_count": 11,
   "id": "c010305a",
   "metadata": {},
   "outputs": [],
   "source": [
    "\n",
    "def przyspiesz(predkosc, ustalona_predkosc):\n",
    "    if predkosc >= ustalona_predkosc:\n",
    "        return 0\n",
    "    elif predkosc < ustalona_predkosc:\n",
    "        return 1\n",
    "   "
   ]
  },
  {
   "cell_type": "code",
   "execution_count": 12,
   "id": "152e6e25",
   "metadata": {},
   "outputs": [],
   "source": [
    "#Stworzenie pliku CSV\n",
    "csv_filename = 'predkosci.csv'\n",
    "\n",
    "# Nagłówki dla pliku CSV\n",
    "csv_headers = ['Czas', 'Predkosc (km/h)','Pitch','throttle','brake','Bf','Br']\n",
    "\n",
    "# Otwórz plik CSV w trybie zapisu i zapisz nagłówki\n",
    "with open(csv_filename, mode='w', newline='') as file:\n",
    "    writer = csv.writer(file)\n",
    "    writer.writerow(csv_headers)"
   ]
  },
  {
   "cell_type": "code",
   "execution_count": 13,
   "id": "b160257e",
   "metadata": {},
   "outputs": [],
   "source": [
    "#Główny program\n",
    "flaga = 0 # flaga na 0 przyspieszamy do zadanej prędkości flaga na 1 hamujemy\n",
    "skret = 0\n",
    "hamulec = 0\n",
    "pedalGazu = 1\n",
    "font = cv2.FONT_HERSHEY_SIMPLEX\n",
    "org2 = (30, 50)\n",
    "fontScale = 0.5\n",
    "color = (255, 255, 255)\n",
    "grubosc = 1\n",
    "Bf = 0\n",
    "Br = 0\n",
    "ustalona_predkosc = 100\n",
    "\n",
    "cv2.namedWindow('RGB Camera',cv2.WINDOW_AUTOSIZE)\n",
    "cv2.imshow('RGB Camera',camera_data['image'])\n",
    "status = 0\n",
    "\n",
    "# Telemetria\n",
    "#pojazd.show_debug_telemetry()\n",
    "\n",
    "while True:\n",
    "  \n",
    "    world.tick()\n",
    "    if cv2.waitKey(1) == ord('q'):\n",
    "        break\n",
    "    image = camera_data['image']\n",
    "    v = pojazd.get_velocity() \n",
    "   \n",
    "\n",
    "    s = 3.6 * math.sqrt(v.x**2 + v.y**2 + v.z**2)\n",
    "    rotacja = pojazd.get_transform().rotation\n",
    "    yaw = rotacja.yaw\n",
    "    pitch = rotacja.pitch\n",
    "    \n",
    "    current_time = time.time()\n",
    "    Bf = 0 \n",
    "    Br = 0\n",
    "    if status == 1 and abs(v.y) >0.0001:\n",
    "        dYaw = yaw - yawPoprzednie\n",
    "        dt = current_time - czasPoprzedni\n",
    "        YawP = dYaw/dt \n",
    "\n",
    "        Bf = math.atan((v.x + lf*YawP)/(v.y)) - skret \n",
    "\n",
    "        Br = math.atan((v.x - lr*YawP)/(v.y))        \n",
    "        \n",
    "\n",
    "    yawPoprzednie = yaw\n",
    "    czasPoprzedni = current_time\n",
    "    status = 1\n",
    "    # Zapisz do pliku CSV\n",
    "    with open(csv_filename, mode='a', newline='') as file:\n",
    "        writer = csv.writer(file)\n",
    "        writer.writerow([current_time, s ,pitch,pedalGazu,hamulec,Bf,Br])\n",
    "    image = cv2.putText(image,'Predkosc: '+str(int(s))+' km/h',org2, \n",
    "                        font, fontScale,color,grubosc,cv2.LINE_AA)\n",
    "    \n",
    "    if flaga==0:\n",
    "        gaz = przyspiesz(s,ustalona_predkosc)\n",
    "        pojazd.apply_control(carla.VehicleControl(throttle=gaz, steer=skret))\n",
    "        \n",
    "    if s >= ustalona_predkosc:\n",
    "        flaga = 1\n",
    "        \n",
    "    if flaga==1:\n",
    "        pojazd.apply_control(carla.VehicleControl(throttle=0, brake=1))\n",
    "        hamulec = 1\n",
    "        pedalGazu = 0\n",
    "        \n",
    "    cv2.imshow('RGB Camera',image)\n",
    "\n",
    "\n",
    "\n",
    "cv2.destroyAllWindows()\n",
    "camera.stop()\n",
    "for actor in world.get_actors().filter('*vehicle*'):\n",
    "    actor.destroy()\n",
    "for sensor in world.get_actors().filter('*sensor*'):\n",
    "    sensor.destroy()"
   ]
  }
 ],
 "metadata": {
  "kernelspec": {
   "display_name": "Python 3 (ipykernel)",
   "language": "python",
   "name": "python3"
  },
  "language_info": {
   "codemirror_mode": {
    "name": "ipython",
    "version": 3
   },
   "file_extension": ".py",
   "mimetype": "text/x-python",
   "name": "python",
   "nbconvert_exporter": "python",
   "pygments_lexer": "ipython3",
   "version": "3.7.16"
  }
 },
 "nbformat": 4,
 "nbformat_minor": 5
}
