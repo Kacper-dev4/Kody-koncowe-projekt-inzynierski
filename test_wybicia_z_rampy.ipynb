{
 "cells": [
  {
   "cell_type": "code",
   "execution_count": 1,
   "id": "80ec04bd",
   "metadata": {},
   "outputs": [],
   "source": [
    "import glob\n",
    "import os\n",
    "import sys\n",
    "\n",
    "try:\n",
    "    sys.path.append(glob.glob('../carla/dist/carla-*%d.%d-%s.egg' % (\n",
    "        sys.version_info.major,\n",
    "        sys.version_info.minor,\n",
    "        'win-amd64' if os.name == 'nt' else 'linux-x86_64'))[0])\n",
    "except IndexError:\n",
    "    pass\n",
    "\n",
    "\n",
    "# ==============================================================================\n",
    "# -- imports -------------------------------------------------------------------\n",
    "# ==============================================================================\n",
    "\n",
    "\n",
    "import carla"
   ]
  },
  {
   "cell_type": "code",
   "execution_count": 2,
   "id": "a8737e0a",
   "metadata": {},
   "outputs": [],
   "source": [
    "# Używane biblioteki\n",
    "import carla\n",
    "from carla import Transform, Location, Rotation    # Potrzebne do przesunięcia punktu początkowego pojazdu\n",
    "import random\n",
    "import cv2                                         # Do wyświetlania obrazu\n",
    "import math\n",
    "import numpy as np\n",
    "import csv\n",
    "import time\n",
    "import os\n",
    "# Potrzebne  do storzenia trasy, w teście \"Łosia\"\n",
    "import sys \n",
    "sys.path.append('/home/kacper/carla/PythonAPI/carla')\n",
    "from agents.navigation.global_route_planner import GlobalRoutePlanner"
   ]
  },
  {
   "cell_type": "code",
   "execution_count": 3,
   "id": "49a4ff2c",
   "metadata": {
    "scrolled": true
   },
   "outputs": [],
   "source": [
    "#połączenie z symulacją \n",
    "client = carla.Client('localhost',2000)\n",
    "world = client.get_world()"
   ]
  },
  {
   "cell_type": "code",
   "execution_count": 4,
   "id": "79e040c9",
   "metadata": {
    "scrolled": false
   },
   "outputs": [
    {
     "data": {
      "text/plain": [
       "<carla.libcarla.World at 0x7417c00fdd40>"
      ]
     },
     "execution_count": 4,
     "metadata": {},
     "output_type": "execute_result"
    }
   ],
   "source": [
    "# Wybór mapy\n",
    "client.set_timeout(60)\n",
    "client.load_world('Town05')"
   ]
  },
  {
   "cell_type": "code",
   "execution_count": 5,
   "id": "5f321196",
   "metadata": {},
   "outputs": [],
   "source": [
    "#Wczytanie biblioteki z bluprintami \n",
    "bib = world.get_blueprint_library()"
   ]
  },
  {
   "cell_type": "code",
   "execution_count": 6,
   "id": "747b17d8",
   "metadata": {},
   "outputs": [],
   "source": [
    "#Znalezienie punktów w których można tworzyć pojazdy\n",
    "spawn_points = world.get_map().get_spawn_points()"
   ]
  },
  {
   "cell_type": "code",
   "execution_count": null,
   "id": "9a7c78e8",
   "metadata": {
    "scrolled": true
   },
   "outputs": [],
   "source": [
    "#Stworzenie pojazdu \n",
    "pojazd_bib = bib.find('vehicle.mini.cooper_s_2021')\n",
    "miejsce = spawn_points[8]\n",
    "miejsce = Transform(Location(x=miejsce.location.x + 302, y=miejsce.location.y + 200, z=miejsce.location.z), miejsce.rotation)\n",
    "\n",
    "#miejsce = random.choice(spawn_points)\n",
    "pojazd = world.try_spawn_actor(pojazd_bib, miejsce)\n",
    "print(miejsce)"
   ]
  },
  {
   "cell_type": "code",
   "execution_count": null,
   "id": "2ac4ac42",
   "metadata": {},
   "outputs": [],
   "source": [
    "#Pojazdy\n",
    "#'vehicle.lincoln.mkz_2020'\n",
    "#'vehicle.mercedes.coupe_2020'\n",
    "#'vehicle.mercedes.sprinter'\n",
    "#'vehicle.ford.ambulance'\n",
    "#'vehicle.'volkswagen.t2_2021'\n",
    "#'vehicle.mitsubishi.fusorosa'\n",
    "#'vehicle.tesla.cybertruck'\n",
    "#'vehicle.ford.mustang'\n",
    "#'vehicle.tesla.model3'\n",
    "#vehicle.dodge.charger_2020\n",
    "#vehicle.nissan.micra\n",
    "#'vehicle.micro.microlino'\n",
    "#'vehicle.mini.cooper_s_2021'\n",
    "\n",
    "# Tworzenie obiektu Location z wartościami x, y, z\n",
    "miejsce_location = carla.Location(x=35.056522, y=163.656631, z=0.300000)\n",
    "\n",
    "# Wypisanie wartości zmiennej\n",
    "print(miejsce_location)"
   ]
  },
  {
   "cell_type": "code",
   "execution_count": 8,
   "id": "0f6260e5",
   "metadata": {},
   "outputs": [],
   "source": [
    "#Przeniesienie do lokazji utworzonego pojazdu\n",
    "spectator = world.get_spectator()\n",
    "transform = carla.Transform(pojazd.get_transform().transform(carla.Location(x=-4,z=2.5)),pojazd.get_transform().rotation) \n",
    "spectator.set_transform(transform) "
   ]
  },
  {
   "cell_type": "code",
   "execution_count": null,
   "id": "27e9b141",
   "metadata": {},
   "outputs": [],
   "source": [
    "# Dodanie kamery\n",
    "pozycja_z = 4 \n",
    "pozycja_x = -10 \n",
    "\n",
    "camera_bp = world.get_blueprint_library().find('sensor.camera.rgb')\n",
    "camera_bp.set_attribute('image_size_x', '640') \n",
    "camera_bp.set_attribute('image_size_y', '360')\n",
    "\n",
    "camera_init_trans = carla.Transform(carla.Location(z=pozycja_z,x=pozycja_x))\n",
    "camera = world.spawn_actor(camera_bp,camera_init_trans,attach_to=pojazd)\n",
    "\n",
    "def camera_callback(image,data_dict):\n",
    "    data_dict['image'] = np.reshape(np.copy(image.raw_data),(image.height,image.width,4))\n",
    "\n",
    "image_w = camera_bp.get_attribute('image_size_x').as_int()\n",
    "image_h = camera_bp.get_attribute('image_size_y').as_int()\n",
    "\n",
    "camera_data = {'image': np.zeros((image_h,image_w,4))}\n",
    "\n",
    "camera.listen(lambda image: camera_callback(image,camera_data))\n",
    "\n",
    "#Dodanie czujnika IMU\n",
    "\n",
    "imu_bp = bib.find('sensor.other.imu')\n",
    "imu_sens = world.spawn_actor(imu_bp, carla.Transform(), attach_to=pojazd)\n",
    "\n",
    "imu_data = {'imu': None}\n",
    "\n",
    "def imu_callback(data, data_dict):\n",
    "    data_dict['imu'] = {\n",
    "        'gyro': data.gyroscope,\n",
    "        'accel': data.accelerometer,\n",
    "        'compass': data.compass\n",
    "    }\n",
    "    \n",
    "imu_sens.listen(lambda data: imu_callback(data, imu_data))"
   ]
  },
  {
   "cell_type": "code",
   "execution_count": null,
   "id": "c010305a",
   "metadata": {},
   "outputs": [],
   "source": [
    "\n",
    "en = 0.1\n",
    "I = 0\n",
    "e_pop = 0 \n",
    "\n",
    "\"\"\"\n",
    "Implementacja regulatora PID wykorzystywanego w tescie Łosia \n",
    "\n",
    "Wykorzystywana do sterowania prędkością pojazdu w celu ustalenia jej na zadanej wartości\n",
    "\n",
    "y - obecna prędkość pojazdu\n",
    "\n",
    "limMin - ograniczenie dolne sterowania pojazdem (minimalna wartość jaką możę zwrócić funkcja PID, min = 0)\n",
    "\n",
    "limMax - ograniczenie górny sterowana pojazdem (maksymalna wartość jaką może zwórcić funkcja PID, maks = 1)\n",
    "\n",
    "zadana - zadana prędkość którą chcemy osiągnąć\n",
    "\n",
    "Nastawy otrzymane przy użyciu metody Ziglera-Nicholsa\n",
    "\n",
    "\"\"\"   \n",
    "def pid(y, limMin, limMax, zadana):\n",
    "    global I\n",
    "    global e_pop\n",
    "    h = 1\n",
    "    kp = 32.2        # 0.35 : 0.35 : 50 : 54 \n",
    "    Ti = 0.3333   # 4    : 0.1  : 0.01 : 0.2\n",
    "    Td = 0.0777 # 0.5  : 0.5  : 0    : 0.5\n",
    "\n",
    "    e = zadana - y\n",
    "    P = kp*e\n",
    "    \n",
    "    I = I + (h*kp/Ti) * e\n",
    "\n",
    "    D = (Td/h) * (e - e_pop) \n",
    "    \n",
    "    e_pop = e\n",
    "\n",
    "    sterowanie = P + I + D\n",
    "    if sterowanie>limMax:\n",
    "        sterowanie = limMax\n",
    "        I = I - (h*kp/Ti) * e\n",
    "    elif sterowanie<limMin:\n",
    "        sterowanie = limMin\n",
    "        I = I - (h*kp/Ti) * e\n",
    "    return sterowanie\n",
    "\n"
   ]
  },
  {
   "cell_type": "code",
   "execution_count": 14,
   "id": "152e6e25",
   "metadata": {},
   "outputs": [],
   "source": [
    "#Stworzenie pliku CSV\n",
    "csv_filename = 'predkosci.csv'\n",
    "\n",
    "# Nagłówki dla pliku CSV\n",
    "csv_headers = ['Czas', 'Predkosc (km/h)']\n",
    "\n",
    "# Otwórz plik CSV w trybie zapisu i zapisz nagłówki\n",
    "with open(csv_filename, mode='w', newline='') as file:\n",
    "    writer = csv.writer(file)\n",
    "    writer.writerow(csv_headers)"
   ]
  },
  {
   "cell_type": "code",
   "execution_count": null,
   "id": "b160257e",
   "metadata": {
    "scrolled": true
   },
   "outputs": [],
   "source": [
    "#Główny program\n",
    "flaga = 0 # flaga na 0 przyspieszamy do zadanej prędkości flaga na 1 hamujemy\n",
    "skret = 0\n",
    "hamulec = 0\n",
    "pedalGazu = 1\n",
    "font = cv2.FONT_HERSHEY_SIMPLEX\n",
    "org2 = (30, 50)\n",
    "fontScale = 0.5\n",
    "color = (255, 255, 255)\n",
    "grubosc = 1\n",
    "ymax = 0\n",
    "\n",
    "cv2.namedWindow('RGB Camera',cv2.WINDOW_AUTOSIZE)\n",
    "cv2.imshow('RGB Camera',camera_data['image'])\n",
    "status = 1\n",
    "\n",
    "# Telemetria\n",
    "#pojazd.show_debug_telemetry()\n",
    "\n",
    "while True:\n",
    "    # Carla Tick\n",
    "    world.tick()\n",
    "    if cv2.waitKey(1) == ord('q'):\n",
    "        break\n",
    "    image = camera_data['image']\n",
    "    v = pojazd.get_velocity() \n",
    "   \n",
    "    s = round(3.6 * math.sqrt(v.x**2 + v.y**2 + v.z**2),0)\n",
    "    pit = pojazd.get_transform().rotation\n",
    "    pit = pit.pitch\n",
    "    \n",
    "    # Zbieranie polozenia pojazdu\n",
    "    \n",
    "    transformacja = pojazd.get_transform()\n",
    "\n",
    "    x = transformacja.location.x\n",
    "    y = transformacja.location.y\n",
    "    z = transformacja.location.z\n",
    "    \n",
    "    if y > ymax:\n",
    "        ymax = y\n",
    "\n",
    "    current_time = time.time()\n",
    "   \n",
    "    # Zapisz do pliku CSV\n",
    "    with open(csv_filename, mode='a', newline='') as file:\n",
    "        writer = csv.writer(file)\n",
    "        writer.writerow([current_time, s ,pit,pedalGazu,hamulec,x,y,z])\n",
    "    image = cv2.putText(image,'Predkosc: '+str(int(s))+' km/h',org2, \n",
    "                        font, fontScale,color,grubosc,cv2.LINE_AA)\n",
    "  \n",
    "\n",
    "    gaz  = pid(s, 0.25, 1, 100)\n",
    "    pojazd.apply_control(carla.VehicleControl(throttle=gaz, steer=skret))\n",
    "    \n",
    "        \n",
    "    cv2.imshow('RGB Camera',image)\n",
    "\n",
    "\n",
    "\n",
    "print(ymax)\n",
    "cv2.destroyAllWindows()\n",
    "camera.stop()\n",
    "for actor in world.get_actors().filter('*vehicle*'):\n",
    "    actor.destroy()\n",
    "for sensor in world.get_actors().filter('*sensor*'):\n",
    "    sensor.destroy()"
   ]
  },
  {
   "cell_type": "code",
   "execution_count": null,
   "id": "ea150352",
   "metadata": {},
   "outputs": [],
   "source": [
    "#Pojazdy\n",
    "#'vehicle.lincoln.mkz_2020'\n",
    "#'vehicle.mercedes.coupe_2020'\n",
    "#'vehicle.mercedes.sprinter'\n",
    "#'vehicle.ford.ambulance'\n",
    "#'vehicle.'volkswagen.t2_2021'\n",
    "#'vehicle.mitsubishi.fusorosa'\n",
    "#'vehicle.tesla.cybertruck'\n",
    "#'vehicle.mini.cooper_s_2021'\n",
    "\n"
   ]
  }
 ],
 "metadata": {
  "kernelspec": {
   "display_name": "Python 3",
   "language": "python",
   "name": "python3"
  },
  "language_info": {
   "codemirror_mode": {
    "name": "ipython",
    "version": 3
   },
   "file_extension": ".py",
   "mimetype": "text/x-python",
   "name": "python",
   "nbconvert_exporter": "python",
   "pygments_lexer": "ipython3",
   "version": "3.10.12"
  }
 },
 "nbformat": 4,
 "nbformat_minor": 5
}
